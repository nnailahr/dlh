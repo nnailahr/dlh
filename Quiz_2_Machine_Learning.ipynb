{
  "cells": [
    {
      "cell_type": "markdown",
      "source": [
        "Naila H. Ramadhani (5026211022)\n",
        "\n",
        "Quiz 2: Machine Learning"
      ],
      "metadata": {
        "id": "hXyxwxXY3lk_"
      },
      "id": "hXyxwxXY3lk_"
    },
    {
      "cell_type": "markdown",
      "id": "99597ca5-47d9-4f63-bed9-b3d873f16841",
      "metadata": {
        "id": "99597ca5-47d9-4f63-bed9-b3d873f16841"
      },
      "source": [
        "# LIBRARIES"
      ]
    },
    {
      "cell_type": "code",
      "execution_count": 14,
      "id": "66707289-c198-4047-ac46-0de7a73a533c",
      "metadata": {
        "id": "66707289-c198-4047-ac46-0de7a73a533c"
      },
      "outputs": [],
      "source": [
        "import numpy as np\n",
        "\n",
        "import pandas as pd\n",
        "pd.set_option('display.max_columns', None)\n",
        "pd.set_option('display.max_rows', 99)"
      ]
    },
    {
      "cell_type": "markdown",
      "id": "e39d1c0c-0778-4f15-bacb-6ec77b9259d5",
      "metadata": {
        "tags": [],
        "id": "e39d1c0c-0778-4f15-bacb-6ec77b9259d5"
      },
      "source": [
        "# IMPORTING DATA"
      ]
    },
    {
      "cell_type": "code",
      "execution_count": 2,
      "id": "a52599e9-619e-4263-b5a5-d14dbea62c44",
      "metadata": {
        "id": "a52599e9-619e-4263-b5a5-d14dbea62c44"
      },
      "outputs": [],
      "source": [
        "df = pd.read_csv('onlineRetail.csv')\n",
        "df1 = pd.read_csv('healthcare.csv')"
      ]
    },
    {
      "cell_type": "markdown",
      "id": "e8ea4fa6-0ae4-4435-adab-641d2f3a26b9",
      "metadata": {
        "id": "e8ea4fa6-0ae4-4435-adab-641d2f3a26b9"
      },
      "source": [
        "# EXPLORING DATA"
      ]
    },
    {
      "cell_type": "markdown",
      "source": [
        "##Data Informations"
      ],
      "metadata": {
        "id": "neaIkgMKujML"
      },
      "id": "neaIkgMKujML"
    },
    {
      "cell_type": "code",
      "execution_count": 3,
      "id": "d14e5613-33db-4928-b4f0-13c2c957aaeb",
      "metadata": {
        "colab": {
          "base_uri": "https://localhost:8080/"
        },
        "id": "d14e5613-33db-4928-b4f0-13c2c957aaeb",
        "outputId": "5d678116-f793-40e5-e23f-fb9145726d58"
      },
      "outputs": [
        {
          "output_type": "execute_result",
          "data": {
            "text/plain": [
              "(541909, 8)"
            ]
          },
          "metadata": {},
          "execution_count": 3
        }
      ],
      "source": [
        "df.shape"
      ]
    },
    {
      "cell_type": "code",
      "source": [
        "df1.shape"
      ],
      "metadata": {
        "colab": {
          "base_uri": "https://localhost:8080/"
        },
        "id": "sbNbOFzEdMpd",
        "outputId": "83fa65f6-3135-4763-92da-a945be401f8d"
      },
      "id": "sbNbOFzEdMpd",
      "execution_count": 4,
      "outputs": [
        {
          "output_type": "execute_result",
          "data": {
            "text/plain": [
              "(10000, 15)"
            ]
          },
          "metadata": {},
          "execution_count": 4
        }
      ]
    },
    {
      "cell_type": "code",
      "execution_count": 5,
      "id": "14f2a434-98e4-426d-8914-5b56dba4f1c3",
      "metadata": {
        "scrolled": true,
        "tags": [],
        "colab": {
          "base_uri": "https://localhost:8080/"
        },
        "id": "14f2a434-98e4-426d-8914-5b56dba4f1c3",
        "outputId": "d8e0593f-3c75-4f76-95b3-fb8fdb3ecf26"
      },
      "outputs": [
        {
          "output_type": "stream",
          "name": "stdout",
          "text": [
            "<class 'pandas.core.frame.DataFrame'>\n",
            "RangeIndex: 541909 entries, 0 to 541908\n",
            "Data columns (total 8 columns):\n",
            " #   Column       Non-Null Count   Dtype  \n",
            "---  ------       --------------   -----  \n",
            " 0   InvoiceNo    541909 non-null  object \n",
            " 1   StockCode    541909 non-null  object \n",
            " 2   Description  540455 non-null  object \n",
            " 3   Quantity     541909 non-null  int64  \n",
            " 4   InvoiceDate  541909 non-null  object \n",
            " 5   UnitPrice    541909 non-null  float64\n",
            " 6   CustomerID   406829 non-null  float64\n",
            " 7   Country      541909 non-null  object \n",
            "dtypes: float64(2), int64(1), object(5)\n",
            "memory usage: 33.1+ MB\n",
            "<class 'pandas.core.frame.DataFrame'>\n",
            "RangeIndex: 10000 entries, 0 to 9999\n",
            "Data columns (total 15 columns):\n",
            " #   Column              Non-Null Count  Dtype  \n",
            "---  ------              --------------  -----  \n",
            " 0   Name                10000 non-null  object \n",
            " 1   Age                 10000 non-null  int64  \n",
            " 2   Gender              10000 non-null  object \n",
            " 3   Blood Type          10000 non-null  object \n",
            " 4   Medical Condition   10000 non-null  object \n",
            " 5   Date of Admission   10000 non-null  object \n",
            " 6   Doctor              10000 non-null  object \n",
            " 7   Hospital            10000 non-null  object \n",
            " 8   Insurance Provider  10000 non-null  object \n",
            " 9   Billing Amount      10000 non-null  float64\n",
            " 10  Room Number         10000 non-null  int64  \n",
            " 11  Admission Type      10000 non-null  object \n",
            " 12  Discharge Date      10000 non-null  object \n",
            " 13  Medication          10000 non-null  object \n",
            " 14  Test Results        10000 non-null  object \n",
            "dtypes: float64(1), int64(2), object(12)\n",
            "memory usage: 1.1+ MB\n"
          ]
        }
      ],
      "source": [
        "df.info()\n",
        "df1.info()"
      ]
    },
    {
      "cell_type": "code",
      "execution_count": 6,
      "id": "ae2de89b-b107-4aed-a27a-d3e459dad9a7",
      "metadata": {
        "colab": {
          "base_uri": "https://localhost:8080/",
          "height": 80
        },
        "id": "ae2de89b-b107-4aed-a27a-d3e459dad9a7",
        "outputId": "6021e88e-aa21-4224-cc9a-e8259e0ecfa8"
      },
      "outputs": [
        {
          "output_type": "execute_result",
          "data": {
            "text/plain": [
              "       InvoiceNo StockCode                      Description  Quantity  \\\n",
              "478739    577106     22900  SET 2 TEA TOWELS I LOVE LONDON          1   \n",
              "\n",
              "                InvoiceDate  UnitPrice  CustomerID         Country  \n",
              "478739  2011-11-17 17:18:00       3.25     14456.0  United Kingdom  "
            ],
            "text/html": [
              "\n",
              "  <div id=\"df-854bcba3-5d79-45cc-94a0-b77d0435af1a\" class=\"colab-df-container\">\n",
              "    <div>\n",
              "<style scoped>\n",
              "    .dataframe tbody tr th:only-of-type {\n",
              "        vertical-align: middle;\n",
              "    }\n",
              "\n",
              "    .dataframe tbody tr th {\n",
              "        vertical-align: top;\n",
              "    }\n",
              "\n",
              "    .dataframe thead th {\n",
              "        text-align: right;\n",
              "    }\n",
              "</style>\n",
              "<table border=\"1\" class=\"dataframe\">\n",
              "  <thead>\n",
              "    <tr style=\"text-align: right;\">\n",
              "      <th></th>\n",
              "      <th>InvoiceNo</th>\n",
              "      <th>StockCode</th>\n",
              "      <th>Description</th>\n",
              "      <th>Quantity</th>\n",
              "      <th>InvoiceDate</th>\n",
              "      <th>UnitPrice</th>\n",
              "      <th>CustomerID</th>\n",
              "      <th>Country</th>\n",
              "    </tr>\n",
              "  </thead>\n",
              "  <tbody>\n",
              "    <tr>\n",
              "      <th>478739</th>\n",
              "      <td>577106</td>\n",
              "      <td>22900</td>\n",
              "      <td>SET 2 TEA TOWELS I LOVE LONDON</td>\n",
              "      <td>1</td>\n",
              "      <td>2011-11-17 17:18:00</td>\n",
              "      <td>3.25</td>\n",
              "      <td>14456.0</td>\n",
              "      <td>United Kingdom</td>\n",
              "    </tr>\n",
              "  </tbody>\n",
              "</table>\n",
              "</div>\n",
              "    <div class=\"colab-df-buttons\">\n",
              "\n",
              "  <div class=\"colab-df-container\">\n",
              "    <button class=\"colab-df-convert\" onclick=\"convertToInteractive('df-854bcba3-5d79-45cc-94a0-b77d0435af1a')\"\n",
              "            title=\"Convert this dataframe to an interactive table.\"\n",
              "            style=\"display:none;\">\n",
              "\n",
              "  <svg xmlns=\"http://www.w3.org/2000/svg\" height=\"24px\" viewBox=\"0 -960 960 960\">\n",
              "    <path d=\"M120-120v-720h720v720H120Zm60-500h600v-160H180v160Zm220 220h160v-160H400v160Zm0 220h160v-160H400v160ZM180-400h160v-160H180v160Zm440 0h160v-160H620v160ZM180-180h160v-160H180v160Zm440 0h160v-160H620v160Z\"/>\n",
              "  </svg>\n",
              "    </button>\n",
              "\n",
              "  <style>\n",
              "    .colab-df-container {\n",
              "      display:flex;\n",
              "      gap: 12px;\n",
              "    }\n",
              "\n",
              "    .colab-df-convert {\n",
              "      background-color: #E8F0FE;\n",
              "      border: none;\n",
              "      border-radius: 50%;\n",
              "      cursor: pointer;\n",
              "      display: none;\n",
              "      fill: #1967D2;\n",
              "      height: 32px;\n",
              "      padding: 0 0 0 0;\n",
              "      width: 32px;\n",
              "    }\n",
              "\n",
              "    .colab-df-convert:hover {\n",
              "      background-color: #E2EBFA;\n",
              "      box-shadow: 0px 1px 2px rgba(60, 64, 67, 0.3), 0px 1px 3px 1px rgba(60, 64, 67, 0.15);\n",
              "      fill: #174EA6;\n",
              "    }\n",
              "\n",
              "    .colab-df-buttons div {\n",
              "      margin-bottom: 4px;\n",
              "    }\n",
              "\n",
              "    [theme=dark] .colab-df-convert {\n",
              "      background-color: #3B4455;\n",
              "      fill: #D2E3FC;\n",
              "    }\n",
              "\n",
              "    [theme=dark] .colab-df-convert:hover {\n",
              "      background-color: #434B5C;\n",
              "      box-shadow: 0px 1px 3px 1px rgba(0, 0, 0, 0.15);\n",
              "      filter: drop-shadow(0px 1px 2px rgba(0, 0, 0, 0.3));\n",
              "      fill: #FFFFFF;\n",
              "    }\n",
              "  </style>\n",
              "\n",
              "    <script>\n",
              "      const buttonEl =\n",
              "        document.querySelector('#df-854bcba3-5d79-45cc-94a0-b77d0435af1a button.colab-df-convert');\n",
              "      buttonEl.style.display =\n",
              "        google.colab.kernel.accessAllowed ? 'block' : 'none';\n",
              "\n",
              "      async function convertToInteractive(key) {\n",
              "        const element = document.querySelector('#df-854bcba3-5d79-45cc-94a0-b77d0435af1a');\n",
              "        const dataTable =\n",
              "          await google.colab.kernel.invokeFunction('convertToInteractive',\n",
              "                                                    [key], {});\n",
              "        if (!dataTable) return;\n",
              "\n",
              "        const docLinkHtml = 'Like what you see? Visit the ' +\n",
              "          '<a target=\"_blank\" href=https://colab.research.google.com/notebooks/data_table.ipynb>data table notebook</a>'\n",
              "          + ' to learn more about interactive tables.';\n",
              "        element.innerHTML = '';\n",
              "        dataTable['output_type'] = 'display_data';\n",
              "        await google.colab.output.renderOutput(dataTable, element);\n",
              "        const docLink = document.createElement('div');\n",
              "        docLink.innerHTML = docLinkHtml;\n",
              "        element.appendChild(docLink);\n",
              "      }\n",
              "    </script>\n",
              "  </div>\n",
              "\n",
              "    </div>\n",
              "  </div>\n"
            ]
          },
          "metadata": {},
          "execution_count": 6
        }
      ],
      "source": [
        "df.sample()"
      ]
    },
    {
      "cell_type": "code",
      "source": [
        "df1.sample()"
      ],
      "metadata": {
        "colab": {
          "base_uri": "https://localhost:8080/",
          "height": 135
        },
        "id": "6f74h5EodPW7",
        "outputId": "9e3bba54-fb08-4481-f6d3-d11fb1d74273"
      },
      "id": "6f74h5EodPW7",
      "execution_count": 7,
      "outputs": [
        {
          "output_type": "execute_result",
          "data": {
            "text/plain": [
              "                Name  Age Gender Blood Type Medical Condition  \\\n",
              "9680  Cheryl Simpson   49   Male         O+           Obesity   \n",
              "\n",
              "     Date of Admission          Doctor        Hospital Insurance Provider  \\\n",
              "9680        2020-11-24  Emily Ferguson  Kelley-Vazquez   UnitedHealthcare   \n",
              "\n",
              "      Billing Amount  Room Number Admission Type Discharge Date Medication  \\\n",
              "9680     17258.32128          357         Urgent     2020-12-16    Aspirin   \n",
              "\n",
              "      Test Results  \n",
              "9680  Inconclusive  "
            ],
            "text/html": [
              "\n",
              "  <div id=\"df-6757983a-a91e-4676-b58e-f783e35a44a6\" class=\"colab-df-container\">\n",
              "    <div>\n",
              "<style scoped>\n",
              "    .dataframe tbody tr th:only-of-type {\n",
              "        vertical-align: middle;\n",
              "    }\n",
              "\n",
              "    .dataframe tbody tr th {\n",
              "        vertical-align: top;\n",
              "    }\n",
              "\n",
              "    .dataframe thead th {\n",
              "        text-align: right;\n",
              "    }\n",
              "</style>\n",
              "<table border=\"1\" class=\"dataframe\">\n",
              "  <thead>\n",
              "    <tr style=\"text-align: right;\">\n",
              "      <th></th>\n",
              "      <th>Name</th>\n",
              "      <th>Age</th>\n",
              "      <th>Gender</th>\n",
              "      <th>Blood Type</th>\n",
              "      <th>Medical Condition</th>\n",
              "      <th>Date of Admission</th>\n",
              "      <th>Doctor</th>\n",
              "      <th>Hospital</th>\n",
              "      <th>Insurance Provider</th>\n",
              "      <th>Billing Amount</th>\n",
              "      <th>Room Number</th>\n",
              "      <th>Admission Type</th>\n",
              "      <th>Discharge Date</th>\n",
              "      <th>Medication</th>\n",
              "      <th>Test Results</th>\n",
              "    </tr>\n",
              "  </thead>\n",
              "  <tbody>\n",
              "    <tr>\n",
              "      <th>9680</th>\n",
              "      <td>Cheryl Simpson</td>\n",
              "      <td>49</td>\n",
              "      <td>Male</td>\n",
              "      <td>O+</td>\n",
              "      <td>Obesity</td>\n",
              "      <td>2020-11-24</td>\n",
              "      <td>Emily Ferguson</td>\n",
              "      <td>Kelley-Vazquez</td>\n",
              "      <td>UnitedHealthcare</td>\n",
              "      <td>17258.32128</td>\n",
              "      <td>357</td>\n",
              "      <td>Urgent</td>\n",
              "      <td>2020-12-16</td>\n",
              "      <td>Aspirin</td>\n",
              "      <td>Inconclusive</td>\n",
              "    </tr>\n",
              "  </tbody>\n",
              "</table>\n",
              "</div>\n",
              "    <div class=\"colab-df-buttons\">\n",
              "\n",
              "  <div class=\"colab-df-container\">\n",
              "    <button class=\"colab-df-convert\" onclick=\"convertToInteractive('df-6757983a-a91e-4676-b58e-f783e35a44a6')\"\n",
              "            title=\"Convert this dataframe to an interactive table.\"\n",
              "            style=\"display:none;\">\n",
              "\n",
              "  <svg xmlns=\"http://www.w3.org/2000/svg\" height=\"24px\" viewBox=\"0 -960 960 960\">\n",
              "    <path d=\"M120-120v-720h720v720H120Zm60-500h600v-160H180v160Zm220 220h160v-160H400v160Zm0 220h160v-160H400v160ZM180-400h160v-160H180v160Zm440 0h160v-160H620v160ZM180-180h160v-160H180v160Zm440 0h160v-160H620v160Z\"/>\n",
              "  </svg>\n",
              "    </button>\n",
              "\n",
              "  <style>\n",
              "    .colab-df-container {\n",
              "      display:flex;\n",
              "      gap: 12px;\n",
              "    }\n",
              "\n",
              "    .colab-df-convert {\n",
              "      background-color: #E8F0FE;\n",
              "      border: none;\n",
              "      border-radius: 50%;\n",
              "      cursor: pointer;\n",
              "      display: none;\n",
              "      fill: #1967D2;\n",
              "      height: 32px;\n",
              "      padding: 0 0 0 0;\n",
              "      width: 32px;\n",
              "    }\n",
              "\n",
              "    .colab-df-convert:hover {\n",
              "      background-color: #E2EBFA;\n",
              "      box-shadow: 0px 1px 2px rgba(60, 64, 67, 0.3), 0px 1px 3px 1px rgba(60, 64, 67, 0.15);\n",
              "      fill: #174EA6;\n",
              "    }\n",
              "\n",
              "    .colab-df-buttons div {\n",
              "      margin-bottom: 4px;\n",
              "    }\n",
              "\n",
              "    [theme=dark] .colab-df-convert {\n",
              "      background-color: #3B4455;\n",
              "      fill: #D2E3FC;\n",
              "    }\n",
              "\n",
              "    [theme=dark] .colab-df-convert:hover {\n",
              "      background-color: #434B5C;\n",
              "      box-shadow: 0px 1px 3px 1px rgba(0, 0, 0, 0.15);\n",
              "      filter: drop-shadow(0px 1px 2px rgba(0, 0, 0, 0.3));\n",
              "      fill: #FFFFFF;\n",
              "    }\n",
              "  </style>\n",
              "\n",
              "    <script>\n",
              "      const buttonEl =\n",
              "        document.querySelector('#df-6757983a-a91e-4676-b58e-f783e35a44a6 button.colab-df-convert');\n",
              "      buttonEl.style.display =\n",
              "        google.colab.kernel.accessAllowed ? 'block' : 'none';\n",
              "\n",
              "      async function convertToInteractive(key) {\n",
              "        const element = document.querySelector('#df-6757983a-a91e-4676-b58e-f783e35a44a6');\n",
              "        const dataTable =\n",
              "          await google.colab.kernel.invokeFunction('convertToInteractive',\n",
              "                                                    [key], {});\n",
              "        if (!dataTable) return;\n",
              "\n",
              "        const docLinkHtml = 'Like what you see? Visit the ' +\n",
              "          '<a target=\"_blank\" href=https://colab.research.google.com/notebooks/data_table.ipynb>data table notebook</a>'\n",
              "          + ' to learn more about interactive tables.';\n",
              "        element.innerHTML = '';\n",
              "        dataTable['output_type'] = 'display_data';\n",
              "        await google.colab.output.renderOutput(dataTable, element);\n",
              "        const docLink = document.createElement('div');\n",
              "        docLink.innerHTML = docLinkHtml;\n",
              "        element.appendChild(docLink);\n",
              "      }\n",
              "    </script>\n",
              "  </div>\n",
              "\n",
              "    </div>\n",
              "  </div>\n"
            ]
          },
          "metadata": {},
          "execution_count": 7
        }
      ]
    },
    {
      "cell_type": "markdown",
      "source": [
        "## Data Analysis"
      ],
      "metadata": {
        "id": "_q_fKa4pudnD"
      },
      "id": "_q_fKa4pudnD"
    },
    {
      "cell_type": "markdown",
      "source": [
        "### Online Retail Dataset"
      ],
      "metadata": {
        "id": "a6WpO4AMdW6V"
      },
      "id": "a6WpO4AMdW6V"
    },
    {
      "cell_type": "markdown",
      "source": [
        "The **largest** quantity and type of goods ordered in each country"
      ],
      "metadata": {
        "id": "vUxBg-ShwDKO"
      },
      "id": "vUxBg-ShwDKO"
    },
    {
      "cell_type": "code",
      "source": [
        "# Group by 'Country' and 'StockCode' and calculate the sum of 'Quantity' for each combination\n",
        "most_bought_items = df.groupby(['Country', 'StockCode'])['Quantity'].sum().reset_index()\n",
        "\n",
        "# Find the index of the maximum 'Quantity' for each 'Country'\n",
        "idx_most_bought = most_bought_items.groupby('Country')['Quantity'].idxmax()\n",
        "\n",
        "# Select the rows with the most bought items for each country\n",
        "most_bought_items_result = most_bought_items.loc[idx_most_bought]\n",
        "\n",
        "# Display the result\n",
        "print(\"Most Bought Item for Each Country:\")\n",
        "print(most_bought_items_result)"
      ],
      "metadata": {
        "colab": {
          "base_uri": "https://localhost:8080/"
        },
        "id": "juh4C_YirOLr",
        "outputId": "83b50202-2808-4b6d-d12e-3bb9b3dad19a"
      },
      "id": "juh4C_YirOLr",
      "execution_count": 8,
      "outputs": [
        {
          "output_type": "stream",
          "name": "stdout",
          "text": [
            "Most Bought Item for Each Country:\n",
            "                    Country StockCode  Quantity\n",
            "224               Australia     22492      2916\n",
            "675                 Austria     21918       288\n",
            "914                 Bahrain     23076        96\n",
            "1011                Belgium     21212       480\n",
            "1708                 Brazil     21430        24\n",
            "1851                 Canada     37370       504\n",
            "1956        Channel Islands     21785       407\n",
            "2469                 Cyprus     22335       384\n",
            "2821         Czech Republic     22578        72\n",
            "2877                Denmark     21915       288\n",
            "3667                   EIRE     22197      1809\n",
            "5077     European Community     22571        24\n",
            "5546                Finland    84997D       552\n",
            "6610                 France     23084      4023\n",
            "7708                Germany     22326      1218\n",
            "8800                 Greece     21615        48\n",
            "9004              Hong Kong     22326       150\n",
            "9169                Iceland     23076       240\n",
            "9230                 Israel     20719       130\n",
            "9894                  Italy    51014A       240\n",
            "10116                 Japan     23084      3401\n",
            "10205               Lebanon     84929        24\n",
            "10217             Lithuania     21915        48\n",
            "10312                 Malta     72741        75\n",
            "10857           Netherlands     23084      4801\n",
            "11129                Norway     16008       576\n",
            "11727                Poland     21232       168\n",
            "12306              Portugal     22740       240\n",
            "12631                   RSA     21889        12\n",
            "12684          Saudi Arabia     22553        12\n",
            "12761             Singapore     22339       384\n",
            "13917                 Spain    84997D      1089\n",
            "14055                Sweden     22492      2916\n",
            "14667           Switzerland     22554       639\n",
            "15332                   USA     23366        88\n",
            "15371  United Arab Emirates     21700        72\n",
            "16575        United Kingdom     22197     52928\n",
            "19807           Unspecified     84077        96\n"
          ]
        }
      ]
    },
    {
      "cell_type": "markdown",
      "source": [
        "The **least** quantity and type of goods ordered in each country"
      ],
      "metadata": {
        "id": "zXGTJBYvwpxf"
      },
      "id": "zXGTJBYvwpxf"
    },
    {
      "cell_type": "code",
      "source": [
        "idx_least_bought = most_bought_items.groupby('Country')['Quantity'].idxmin()\n",
        "least_bought_items_result = most_bought_items.loc[idx_least_bought]\n",
        "\n",
        "# Display the result\n",
        "print(\"\\nLeast Bought Item for Each Country:\")\n",
        "print(least_bought_items_result)\n"
      ],
      "metadata": {
        "colab": {
          "base_uri": "https://localhost:8080/"
        },
        "id": "pB6nCwL6wtHw",
        "outputId": "79ceeed5-4a09-4f2e-dc5f-e891cf46283e"
      },
      "id": "pB6nCwL6wtHw",
      "execution_count": 9,
      "outputs": [
        {
          "output_type": "stream",
          "name": "stdout",
          "text": [
            "\n",
            "Least Bought Item for Each Country:\n",
            "                    Country StockCode  Quantity\n",
            "152               Australia     22094        -5\n",
            "701                 Austria     22153       -48\n",
            "907                 Bahrain     22423         2\n",
            "1592                Belgium     37449        -1\n",
            "1724                 Brazil     23049         2\n",
            "1781                 Canada     22423         1\n",
            "2309        Channel Islands         M         0\n",
            "2585                 Cyprus     22839         0\n",
            "2829         Czech Republic    84459A       -24\n",
            "2838                Denmark    16169E         0\n",
            "3256                   EIRE     21144       -12\n",
            "5069     European Community     22424         1\n",
            "5302                Finland     22487         1\n",
            "7109                 France         M       -16\n",
            "8156                Germany     22998       -20\n",
            "8859                 Greece     22803         1\n",
            "9109              Hong Kong         M         0\n",
            "9213                Iceland    85232D         3\n",
            "9336                 Israel     22474       -32\n",
            "9493                  Italy     20980        -9\n",
            "10162                 Japan         M        -3\n",
            "10188               Lebanon     22844         2\n",
            "10211             Lithuania     20681         6\n",
            "10278                 Malta     22768        -1\n",
            "11119           Netherlands         M      -480\n",
            "11248                Norway     21791         0\n",
            "11823                Poland     22796         0\n",
            "12059              Portugal     21643         0\n",
            "12679                   RSA         M         1\n",
            "12681          Saudi Arabia     22361         1\n",
            "12866             Singapore         M         0\n",
            "13958                 Spain         M        -3\n",
            "14218                Sweden    85232B         0\n",
            "15113           Switzerland     84012         0\n",
            "15199                   USA    16161P         0\n",
            "15429  United Arab Emirates      POST         1\n",
            "17335        United Kingdom     23005    -14468\n",
            "19501           Unspecified     20712         1\n"
          ]
        }
      ]
    },
    {
      "cell_type": "markdown",
      "source": [
        "### Healtcare Dataset"
      ],
      "metadata": {
        "id": "mFxcozKIdem9"
      },
      "id": "mFxcozKIdem9"
    },
    {
      "cell_type": "code",
      "source": [
        "pip install matplotlib"
      ],
      "metadata": {
        "colab": {
          "base_uri": "https://localhost:8080/"
        },
        "id": "Zbesv8jxdiRX",
        "outputId": "11602f6f-06f2-433c-ec12-b7fddf268f2b"
      },
      "id": "Zbesv8jxdiRX",
      "execution_count": 29,
      "outputs": [
        {
          "output_type": "stream",
          "name": "stderr",
          "text": [
            "/usr/local/lib/python3.10/dist-packages/ipykernel/ipkernel.py:283: DeprecationWarning: `should_run_async` will not call `transform_cell` automatically in the future. Please pass the result to `transformed_cell` argument and any exception that happen during thetransform in `preprocessing_exc_tuple` in IPython 7.17 and above.\n",
            "  and should_run_async(code)\n"
          ]
        },
        {
          "output_type": "stream",
          "name": "stdout",
          "text": [
            "Requirement already satisfied: matplotlib in /usr/local/lib/python3.10/dist-packages (3.7.1)\n",
            "Requirement already satisfied: contourpy>=1.0.1 in /usr/local/lib/python3.10/dist-packages (from matplotlib) (1.2.0)\n",
            "Requirement already satisfied: cycler>=0.10 in /usr/local/lib/python3.10/dist-packages (from matplotlib) (0.12.1)\n",
            "Requirement already satisfied: fonttools>=4.22.0 in /usr/local/lib/python3.10/dist-packages (from matplotlib) (4.45.1)\n",
            "Requirement already satisfied: kiwisolver>=1.0.1 in /usr/local/lib/python3.10/dist-packages (from matplotlib) (1.4.5)\n",
            "Requirement already satisfied: numpy>=1.20 in /usr/local/lib/python3.10/dist-packages (from matplotlib) (1.23.5)\n",
            "Requirement already satisfied: packaging>=20.0 in /usr/local/lib/python3.10/dist-packages (from matplotlib) (23.2)\n",
            "Requirement already satisfied: pillow>=6.2.0 in /usr/local/lib/python3.10/dist-packages (from matplotlib) (9.4.0)\n",
            "Requirement already satisfied: pyparsing>=2.3.1 in /usr/local/lib/python3.10/dist-packages (from matplotlib) (3.1.1)\n",
            "Requirement already satisfied: python-dateutil>=2.7 in /usr/local/lib/python3.10/dist-packages (from matplotlib) (2.8.2)\n",
            "Requirement already satisfied: six>=1.5 in /usr/local/lib/python3.10/dist-packages (from python-dateutil>=2.7->matplotlib) (1.16.0)\n"
          ]
        }
      ]
    },
    {
      "cell_type": "code",
      "source": [
        "import matplotlib.pyplot as plt\n",
        "\n",
        "# Count the occurrences of each category in the \"Test Results\" column\n",
        "test_results_counts = df1['Test Results'].value_counts()\n",
        "\n",
        "# Create a bar plot\n",
        "test_results_counts.plot(kind='bar', rot=0, color='skyblue')\n",
        "plt.title('Test Results Distribution')\n",
        "plt.xlabel('Test Results')\n",
        "plt.ylabel('Count')\n",
        "\n",
        "# Display the count values on top of the bars\n",
        "for i, value in enumerate(test_results_counts):\n",
        "    plt.text(i, value + 0.1, str(value), ha='center', va='bottom')\n",
        "\n",
        "plt.show()"
      ],
      "metadata": {
        "colab": {
          "base_uri": "https://localhost:8080/",
          "height": 472
        },
        "id": "PLRvPHQlempC",
        "outputId": "dc735e58-1723-43e4-c69a-90be5185f8ce"
      },
      "id": "PLRvPHQlempC",
      "execution_count": 16,
      "outputs": [
        {
          "output_type": "display_data",
          "data": {
            "text/plain": [
              "<Figure size 640x480 with 1 Axes>"
            ],
            "image/png": "[encoded data removed]"
          },
          "metadata": {}
        }
      ]
    },
    {
      "cell_type": "markdown",
      "source": [
        "# DATA PREPROCESSING"
      ],
      "metadata": {
        "id": "J8rEwRdnyVxj"
      },
      "id": "J8rEwRdnyVxj"
    },
    {
      "cell_type": "markdown",
      "source": [
        "## Online Retail Dataset"
      ],
      "metadata": {
        "id": "x98UkAB1EQm6"
      },
      "id": "x98UkAB1EQm6"
    },
    {
      "cell_type": "markdown",
      "source": [
        "Delete rows with Invoice and Stock Codes that contain a combination of letters and numbers"
      ],
      "metadata": {
        "id": "mKFBP5qp_vND"
      },
      "id": "mKFBP5qp_vND"
    },
    {
      "cell_type": "code",
      "source": [
        "# Convert 'InvoiceNo' and 'StockCode' to numeric, coerce non-numeric values to NaN\n",
        "df['InvoiceNo'] = pd.to_numeric(df['InvoiceNo'], errors='coerce')\n",
        "df['StockCode'] = pd.to_numeric(df['StockCode'], errors='coerce')\n",
        "\n",
        "# Drop rows where both 'InvoiceNo' and 'StockCode' are NaN (non-numeric)\n",
        "df = df.dropna(subset=['InvoiceNo', 'StockCode'], how='all')\n",
        "\n",
        "# Display the modified DataFrame\n",
        "print(df)"
      ],
      "metadata": {
        "colab": {
          "base_uri": "https://localhost:8080/"
        },
        "id": "AbFBevtXy1Fv",
        "outputId": "6c5b513c-75d5-4671-c590-a66614ab96a4"
      },
      "id": "AbFBevtXy1Fv",
      "execution_count": 23,
      "outputs": [
        {
          "output_type": "stream",
          "name": "stdout",
          "text": [
            "        InvoiceNo  StockCode                          Description  Quantity  \\\n",
            "0        536365.0        NaN   WHITE HANGING HEART T-LIGHT HOLDER         6   \n",
            "1        536365.0    71053.0                  WHITE METAL LANTERN         6   \n",
            "2        536365.0        NaN       CREAM CUPID HEARTS COAT HANGER         8   \n",
            "3        536365.0        NaN  KNITTED UNION FLAG HOT WATER BOTTLE         6   \n",
            "4        536365.0        NaN       RED WOOLLY HOTTIE WHITE HEART.         6   \n",
            "...           ...        ...                                  ...       ...   \n",
            "541904   581587.0    22613.0          PACK OF 20 SPACEBOY NAPKINS        12   \n",
            "541905   581587.0    22899.0         CHILDREN'S APRON DOLLY GIRL          6   \n",
            "541906   581587.0    23254.0        CHILDRENS CUTLERY DOLLY GIRL          4   \n",
            "541907   581587.0    23255.0      CHILDRENS CUTLERY CIRCUS PARADE         4   \n",
            "541908   581587.0    22138.0        BAKING SET 9 PIECE RETROSPOT          3   \n",
            "\n",
            "                InvoiceDate  UnitPrice  CustomerID         Country  \n",
            "0       2010-12-01 08:26:00       2.55     17850.0  United Kingdom  \n",
            "1       2010-12-01 08:26:00       3.39     17850.0  United Kingdom  \n",
            "2       2010-12-01 08:26:00       2.75     17850.0  United Kingdom  \n",
            "3       2010-12-01 08:26:00       3.39     17850.0  United Kingdom  \n",
            "4       2010-12-01 08:26:00       3.39     17850.0  United Kingdom  \n",
            "...                     ...        ...         ...             ...  \n",
            "541904  2011-12-09 12:50:00       0.85     12680.0          France  \n",
            "541905  2011-12-09 12:50:00       2.10     12680.0          France  \n",
            "541906  2011-12-09 12:50:00       4.15     12680.0          France  \n",
            "541907  2011-12-09 12:50:00       4.15     12680.0          France  \n",
            "541908  2011-12-09 12:50:00       4.95     12680.0          France  \n",
            "\n",
            "[540669 rows x 8 columns]\n"
          ]
        }
      ]
    },
    {
      "cell_type": "markdown",
      "source": [
        "Change the data type"
      ],
      "metadata": {
        "id": "HL7Ro85CCx2G"
      },
      "id": "HL7Ro85CCx2G"
    },
    {
      "cell_type": "code",
      "source": [
        "# Drop rows with NaN values\n",
        "df = df.dropna()\n",
        "\n",
        "# Convert columns to integer (except 'Description' and 'Country')\n",
        "df['InvoiceNo'] = df['InvoiceNo'].astype(int)\n",
        "df['StockCode'] = df['StockCode'].astype(int)\n",
        "df['Quantity'] = df['Quantity'].astype(int)\n",
        "df['UnitPrice'] = df['UnitPrice'].astype(int)\n",
        "df['CustomerID'] = df['CustomerID'].astype(int)\n",
        "\n",
        "# Convert 'Description' and 'Country' to string\n",
        "df['Description'] = df['Description'].astype(str)\n",
        "df['Country'] = df['Country'].astype(str)\n",
        "\n",
        "# Convert 'InvoiceDate' to datetime and extract date\n",
        "df['InvoiceDate'] = pd.to_datetime(df['InvoiceDate']).dt.strftime('%d-%m-%Y')\n",
        "\n",
        "# Display the modified DataFrame\n",
        "print(df)"
      ],
      "metadata": {
        "colab": {
          "base_uri": "https://localhost:8080/"
        },
        "id": "WM8KTzykBdIu",
        "outputId": "911868ad-6c13-494e-f48a-504d1de6fd91"
      },
      "id": "WM8KTzykBdIu",
      "execution_count": 24,
      "outputs": [
        {
          "output_type": "stream",
          "name": "stderr",
          "text": [
            "<ipython-input-24-de4832245bd0>:5: SettingWithCopyWarning: \n",
            "A value is trying to be set on a copy of a slice from a DataFrame.\n",
            "Try using .loc[row_indexer,col_indexer] = value instead\n",
            "\n",
            "See the caveats in the documentation: https://pandas.pydata.org/pandas-docs/stable/user_guide/indexing.html#returning-a-view-versus-a-copy\n",
            "  df['InvoiceNo'] = df['InvoiceNo'].astype(int)\n",
            "<ipython-input-24-de4832245bd0>:6: SettingWithCopyWarning: \n",
            "A value is trying to be set on a copy of a slice from a DataFrame.\n",
            "Try using .loc[row_indexer,col_indexer] = value instead\n",
            "\n",
            "See the caveats in the documentation: https://pandas.pydata.org/pandas-docs/stable/user_guide/indexing.html#returning-a-view-versus-a-copy\n",
            "  df['StockCode'] = df['StockCode'].astype(int)\n",
            "<ipython-input-24-de4832245bd0>:7: SettingWithCopyWarning: \n",
            "A value is trying to be set on a copy of a slice from a DataFrame.\n",
            "Try using .loc[row_indexer,col_indexer] = value instead\n",
            "\n",
            "See the caveats in the documentation: https://pandas.pydata.org/pandas-docs/stable/user_guide/indexing.html#returning-a-view-versus-a-copy\n",
            "  df['Quantity'] = df['Quantity'].astype(int)\n",
            "<ipython-input-24-de4832245bd0>:8: SettingWithCopyWarning: \n",
            "A value is trying to be set on a copy of a slice from a DataFrame.\n",
            "Try using .loc[row_indexer,col_indexer] = value instead\n",
            "\n",
            "See the caveats in the documentation: https://pandas.pydata.org/pandas-docs/stable/user_guide/indexing.html#returning-a-view-versus-a-copy\n",
            "  df['UnitPrice'] = df['UnitPrice'].astype(int)\n",
            "<ipython-input-24-de4832245bd0>:9: SettingWithCopyWarning: \n",
            "A value is trying to be set on a copy of a slice from a DataFrame.\n",
            "Try using .loc[row_indexer,col_indexer] = value instead\n",
            "\n",
            "See the caveats in the documentation: https://pandas.pydata.org/pandas-docs/stable/user_guide/indexing.html#returning-a-view-versus-a-copy\n",
            "  df['CustomerID'] = df['CustomerID'].astype(int)\n",
            "<ipython-input-24-de4832245bd0>:12: SettingWithCopyWarning: \n",
            "A value is trying to be set on a copy of a slice from a DataFrame.\n",
            "Try using .loc[row_indexer,col_indexer] = value instead\n",
            "\n",
            "See the caveats in the documentation: https://pandas.pydata.org/pandas-docs/stable/user_guide/indexing.html#returning-a-view-versus-a-copy\n",
            "  df['Description'] = df['Description'].astype(str)\n",
            "<ipython-input-24-de4832245bd0>:13: SettingWithCopyWarning: \n",
            "A value is trying to be set on a copy of a slice from a DataFrame.\n",
            "Try using .loc[row_indexer,col_indexer] = value instead\n",
            "\n",
            "See the caveats in the documentation: https://pandas.pydata.org/pandas-docs/stable/user_guide/indexing.html#returning-a-view-versus-a-copy\n",
            "  df['Country'] = df['Country'].astype(str)\n"
          ]
        },
        {
          "output_type": "stream",
          "name": "stdout",
          "text": [
            "        InvoiceNo  StockCode                        Description  Quantity  \\\n",
            "1          536365      71053                WHITE METAL LANTERN         6   \n",
            "5          536365      22752       SET 7 BABUSHKA NESTING BOXES         2   \n",
            "6          536365      21730  GLASS STAR FROSTED T-LIGHT HOLDER         6   \n",
            "7          536366      22633             HAND WARMER UNION JACK         6   \n",
            "8          536366      22632          HAND WARMER RED POLKA DOT         6   \n",
            "...           ...        ...                                ...       ...   \n",
            "541904     581587      22613        PACK OF 20 SPACEBOY NAPKINS        12   \n",
            "541905     581587      22899       CHILDREN'S APRON DOLLY GIRL          6   \n",
            "541906     581587      23254      CHILDRENS CUTLERY DOLLY GIRL          4   \n",
            "541907     581587      23255    CHILDRENS CUTLERY CIRCUS PARADE         4   \n",
            "541908     581587      22138      BAKING SET 9 PIECE RETROSPOT          3   \n",
            "\n",
            "       InvoiceDate  UnitPrice  CustomerID         Country  \n",
            "1       01-12-2010          3       17850  United Kingdom  \n",
            "5       01-12-2010          7       17850  United Kingdom  \n",
            "6       01-12-2010          4       17850  United Kingdom  \n",
            "7       01-12-2010          1       17850  United Kingdom  \n",
            "8       01-12-2010          1       17850  United Kingdom  \n",
            "...            ...        ...         ...             ...  \n",
            "541904  09-12-2011          0       12680          France  \n",
            "541905  09-12-2011          2       12680          France  \n",
            "541906  09-12-2011          4       12680          France  \n",
            "541907  09-12-2011          4       12680          France  \n",
            "541908  09-12-2011          4       12680          France  \n",
            "\n",
            "[363119 rows x 8 columns]\n"
          ]
        }
      ]
    },
    {
      "cell_type": "markdown",
      "source": [
        "## Healthcare Dataset"
      ],
      "metadata": {
        "id": "JAS-2fjXhrJd"
      },
      "id": "JAS-2fjXhrJd"
    },
    {
      "cell_type": "markdown",
      "source": [
        "Check for missing value"
      ],
      "metadata": {
        "id": "cLQerbWAh66b"
      },
      "id": "cLQerbWAh66b"
    },
    {
      "cell_type": "code",
      "source": [
        "print(\"\\nMissing Values:\")\n",
        "print(df1.isnull().sum())"
      ],
      "metadata": {
        "colab": {
          "base_uri": "https://localhost:8080/"
        },
        "id": "kNnn5XcIh0xM",
        "outputId": "6b97d672-de14-4a0a-c3d5-adf535fc7a63"
      },
      "id": "kNnn5XcIh0xM",
      "execution_count": 25,
      "outputs": [
        {
          "output_type": "stream",
          "name": "stdout",
          "text": [
            "\n",
            "Missing Values:\n",
            "Name                  0\n",
            "Age                   0\n",
            "Gender                0\n",
            "Blood Type            0\n",
            "Medical Condition     0\n",
            "Date of Admission     0\n",
            "Doctor                0\n",
            "Hospital              0\n",
            "Insurance Provider    0\n",
            "Billing Amount        0\n",
            "Room Number           0\n",
            "Admission Type        0\n",
            "Discharge Date        0\n",
            "Medication            0\n",
            "Test Results          0\n",
            "dtype: int64\n"
          ]
        }
      ]
    },
    {
      "cell_type": "markdown",
      "source": [
        "Encode categorical variables using Label Encoding"
      ],
      "metadata": {
        "id": "rMo4Mi9GiP6O"
      },
      "id": "rMo4Mi9GiP6O"
    },
    {
      "cell_type": "code",
      "source": [
        "label_encoder = LabelEncoder()\n",
        "df1['Gender'] = label_encoder.fit_transform(df1['Gender'])\n",
        "df1['Blood Type'] = label_encoder.fit_transform(df1['Blood Type'])\n",
        "df1['Doctor'] = label_encoder.fit_transform(df1['Doctor'])\n",
        "df1['Hospital'] = label_encoder.fit_transform(df1['Hospital'])\n",
        "df1['Insurance Provider'] = label_encoder.fit_transform(df1['Insurance Provider'])\n",
        "df1['Admission Type'] = label_encoder.fit_transform(df1['Admission Type'])"
      ],
      "metadata": {
        "id": "TPAV6HrDiHYo"
      },
      "id": "TPAV6HrDiHYo",
      "execution_count": 26,
      "outputs": []
    },
    {
      "cell_type": "markdown",
      "source": [
        "# MODELLING"
      ],
      "metadata": {
        "id": "aW40ns5WEB9N"
      },
      "id": "aW40ns5WEB9N"
    },
    {
      "cell_type": "markdown",
      "source": [
        "## Association Rule"
      ],
      "metadata": {
        "id": "_6C_VTRLsmI4"
      },
      "id": "_6C_VTRLsmI4"
    },
    {
      "cell_type": "code",
      "source": [
        "pip install mlxtend"
      ],
      "metadata": {
        "colab": {
          "base_uri": "https://localhost:8080/"
        },
        "id": "C_0g3cPBtT99",
        "outputId": "1f443987-19d8-4a8b-ee93-693f94ac3764"
      },
      "id": "C_0g3cPBtT99",
      "execution_count": 27,
      "outputs": [
        {
          "output_type": "stream",
          "name": "stdout",
          "text": [
            "Requirement already satisfied: mlxtend in /usr/local/lib/python3.10/dist-packages (0.22.0)\n",
            "Requirement already satisfied: scipy>=1.2.1 in /usr/local/lib/python3.10/dist-packages (from mlxtend) (1.11.4)\n",
            "Requirement already satisfied: numpy>=1.16.2 in /usr/local/lib/python3.10/dist-packages (from mlxtend) (1.23.5)\n",
            "Requirement already satisfied: pandas>=0.24.2 in /usr/local/lib/python3.10/dist-packages (from mlxtend) (1.5.3)\n",
            "Requirement already satisfied: scikit-learn>=1.0.2 in /usr/local/lib/python3.10/dist-packages (from mlxtend) (1.2.2)\n",
            "Requirement already satisfied: matplotlib>=3.0.0 in /usr/local/lib/python3.10/dist-packages (from mlxtend) (3.7.1)\n",
            "Requirement already satisfied: joblib>=0.13.2 in /usr/local/lib/python3.10/dist-packages (from mlxtend) (1.3.2)\n",
            "Requirement already satisfied: setuptools in /usr/local/lib/python3.10/dist-packages (from mlxtend) (67.7.2)\n",
            "Requirement already satisfied: contourpy>=1.0.1 in /usr/local/lib/python3.10/dist-packages (from matplotlib>=3.0.0->mlxtend) (1.2.0)\n",
            "Requirement already satisfied: cycler>=0.10 in /usr/local/lib/python3.10/dist-packages (from matplotlib>=3.0.0->mlxtend) (0.12.1)\n",
            "Requirement already satisfied: fonttools>=4.22.0 in /usr/local/lib/python3.10/dist-packages (from matplotlib>=3.0.0->mlxtend) (4.45.1)\n",
            "Requirement already satisfied: kiwisolver>=1.0.1 in /usr/local/lib/python3.10/dist-packages (from matplotlib>=3.0.0->mlxtend) (1.4.5)\n",
            "Requirement already satisfied: packaging>=20.0 in /usr/local/lib/python3.10/dist-packages (from matplotlib>=3.0.0->mlxtend) (23.2)\n",
            "Requirement already satisfied: pillow>=6.2.0 in /usr/local/lib/python3.10/dist-packages (from matplotlib>=3.0.0->mlxtend) (9.4.0)\n",
            "Requirement already satisfied: pyparsing>=2.3.1 in /usr/local/lib/python3.10/dist-packages (from matplotlib>=3.0.0->mlxtend) (3.1.1)\n",
            "Requirement already satisfied: python-dateutil>=2.7 in /usr/local/lib/python3.10/dist-packages (from matplotlib>=3.0.0->mlxtend) (2.8.2)\n",
            "Requirement already satisfied: pytz>=2020.1 in /usr/local/lib/python3.10/dist-packages (from pandas>=0.24.2->mlxtend) (2023.3.post1)\n",
            "Requirement already satisfied: threadpoolctl>=2.0.0 in /usr/local/lib/python3.10/dist-packages (from scikit-learn>=1.0.2->mlxtend) (3.2.0)\n",
            "Requirement already satisfied: six>=1.5 in /usr/local/lib/python3.10/dist-packages (from python-dateutil>=2.7->matplotlib>=3.0.0->mlxtend) (1.16.0)\n"
          ]
        }
      ]
    },
    {
      "cell_type": "code",
      "source": [
        "from mlxtend.frequent_patterns import apriori\n",
        "from mlxtend.frequent_patterns import association_rules\n",
        "from sklearn.model_selection import train_test_split\n",
        "\n",
        "# Transaction encoding: Convert the dataframe to a transaction format\n",
        "transactions = df.groupby(['InvoiceNo', 'Description'])['Quantity'].sum().unstack().reset_index().fillna(0).set_index('InvoiceNo')\n",
        "\n",
        "# Convert the quantities to binary (0 or 1)\n",
        "transactions = transactions.applymap(lambda x: 1 if x > 0 else 0)\n",
        "\n",
        "# Split the data into training and testing sets\n",
        "train_transactions, test_transactions = train_test_split(transactions, test_size=0.2, random_state=42)\n",
        "\n",
        "# Apriori algorithm to find frequent itemsets\n",
        "frequent_itemsets = apriori(train_transactions, min_support=0.02, use_colnames=True)\n",
        "\n",
        "# Association rules\n",
        "rules = association_rules(frequent_itemsets, metric=\"lift\", min_threshold=1)\n",
        "\n",
        "# Display the rules\n",
        "print(\"\\nAssociation Rules:\")\n",
        "print(rules.head())"
      ],
      "metadata": {
        "colab": {
          "base_uri": "https://localhost:8080/"
        },
        "id": "gYoX7pxetm-c",
        "outputId": "4b56275b-ba48-404a-fd7f-24f2024063d6"
      },
      "id": "gYoX7pxetm-c",
      "execution_count": 28,
      "outputs": [
        {
          "output_type": "stream",
          "name": "stderr",
          "text": [
            "/usr/local/lib/python3.10/dist-packages/mlxtend/frequent_patterns/fpcommon.py:110: DeprecationWarning: DataFrames with non-bool types result in worse computationalperformance and their support might be discontinued in the future.Please use a DataFrame with bool type\n",
            "  warnings.warn(\n"
          ]
        },
        {
          "output_type": "stream",
          "name": "stdout",
          "text": [
            "\n",
            "Association Rules:\n",
            "                    antecedents                   consequents  \\\n",
            "0  (ALARM CLOCK BAKELIKE GREEN)   (ALARM CLOCK BAKELIKE RED )   \n",
            "1   (ALARM CLOCK BAKELIKE RED )  (ALARM CLOCK BAKELIKE GREEN)   \n",
            "2   (ALARM CLOCK BAKELIKE RED )   (ALARM CLOCK BAKELIKE PINK)   \n",
            "3   (ALARM CLOCK BAKELIKE PINK)   (ALARM CLOCK BAKELIKE RED )   \n",
            "4         (SPACEBOY LUNCH BOX )        (DOLLY GIRL LUNCH BOX)   \n",
            "\n",
            "   antecedent support  consequent support   support  confidence       lift  \\\n",
            "0            0.044522            0.048844  0.029842    0.670262  13.722484   \n",
            "1            0.048844            0.044522  0.029842    0.610955  13.722484   \n",
            "2            0.048844            0.033615  0.021884    0.448034  13.328546   \n",
            "3            0.033615            0.048844  0.021884    0.651020  13.328546   \n",
            "4            0.039857            0.034987  0.024353    0.611015  17.464260   \n",
            "\n",
            "   leverage  conviction  zhangs_metric  \n",
            "0  0.027667    2.884580       0.970328  \n",
            "1  0.027667    2.455957       0.974737  \n",
            "2  0.020242    1.750805       0.972473  \n",
            "3  0.020242    2.725535       0.957147  \n",
            "4  0.022959    2.480853       0.981875  \n"
          ]
        }
      ]
    },
    {
      "cell_type": "markdown",
      "source": [
        "* Antecedents and Consequents: These columns represent the itemsets involved in the rule. An antecedent is the itemset on the left side of the rule, and the consequent is on the right side. For example, in the first rule, if a customer buys the \"ALARM CLOCK BAKELIKE GREEN,\" they are likely to buy the \"ALARM CLOCK BAKELIKE RED\" as well.\n",
        "\n",
        "* Antecedent Support and Consequent Support:These columns show the support (frequency) of the antecedent and consequent itemsets independently. For instance, the support of the \"ALARM CLOCK BAKELIKE GREEN\" is 0.044522, indicating that this item appears in 4.45% of all transactions.\n",
        "\n",
        "* Support: This column indicates the support for the combined antecedent and consequent itemsets. In the first rule, the support is 0.029842, suggesting that the combination of \"ALARM CLOCK BAKELIKE GREEN\" and \"ALARM CLOCK BAKELIKE RED\" appears in 2.98% of transactions.\n",
        "\n",
        "* Confidence: Measures how often the rule has been found to be true. In the first rule, the confidence is 0.670262, indicating that when \"ALARM CLOCK BAKELIKE GREEN\" is purchased, there is a 67.03% chance that \"ALARM CLOCK BAKELIKE RED\" will also be purchased.\n",
        "\n",
        "* Lift: Measures how much more likely the consequent is to be purchased when the antecedent is purchased compared to its default likelihood. A lift value greater than 1 indicates that the rule has a positive impact on the likelihood of the consequent being purchased. In the first rule, the lift is 13.722484, suggesting a strong positive association.\n",
        "\n",
        "* Leverage: Calculates the difference between the observed frequency of the itemset and what would be expected if the items were independent. A positive leverage indicates that the items appear together more often than expected.\n",
        "\n",
        "* Conviction: Measures the dependence of the consequent on the antecedent. Higher conviction values indicate stronger dependence. In the first rule, the conviction is 2.884580.\n",
        "\n",
        "* Zhang's metric: Another measure of association strength. A value close to 1 indicates a strong association. In the first rule, the value is 0.970328."
      ],
      "metadata": {
        "id": "LzU_CK3x203d"
      },
      "id": "LzU_CK3x203d"
    },
    {
      "cell_type": "markdown",
      "source": [
        "## Clustering"
      ],
      "metadata": {
        "id": "UHizd7-PJ1jb"
      },
      "id": "UHizd7-PJ1jb"
    },
    {
      "cell_type": "markdown",
      "source": [
        "Clustering is an unsupervised learning method where the algorithm groups similar data points together without the need for labeled data. Since clustering is unsupervised, we don't typically split the data into training and testing sets."
      ],
      "metadata": {
        "id": "ugamRU8eV7Fd"
      },
      "id": "ugamRU8eV7Fd"
    },
    {
      "cell_type": "markdown",
      "source": [
        "### Online Retail Dataset"
      ],
      "metadata": {
        "id": "vuts2sLajKNt"
      },
      "id": "vuts2sLajKNt"
    },
    {
      "cell_type": "markdown",
      "source": [
        "In this case, each data point in the scatter plot represents a customer, and the clustering is based on the similarity of customers in terms of their purchasing behavior."
      ],
      "metadata": {
        "id": "5PraDKjmmItX"
      },
      "id": "5PraDKjmmItX"
    },
    {
      "cell_type": "code",
      "source": [
        "from sklearn.cluster import KMeans\n",
        "import matplotlib.pyplot as plt\n",
        "\n",
        "# Feature selection\n",
        "selected_features = df[['Quantity', 'UnitPrice']]\n",
        "\n",
        "# Instantiate the KMeans model\n",
        "kmeans = KMeans(n_clusters=3, random_state=42)\n",
        "\n",
        "# Fit the model to your data\n",
        "df['CustomerSegment'] = kmeans.fit_predict(selected_features)\n",
        "\n",
        "# Visualize the clusters (for a 2D space)\n",
        "plt.scatter(df['Quantity'], df['UnitPrice'], c=df['CustomerSegment'], cmap='viridis')\n",
        "plt.title('Customer Segmentation')\n",
        "plt.xlabel('Quantity')\n",
        "plt.ylabel('UnitPrice')\n",
        "plt.show()\n",
        "\n",
        "# Display the DataFrame with the assigned customer segments\n",
        "print(df[['CustomerID', 'Quantity', 'UnitPrice', 'CustomerSegment']])\n"
      ],
      "metadata": {
        "colab": {
          "base_uri": "https://localhost:8080/",
          "height": 813
        },
        "id": "0z_jki7ZJ39g",
        "outputId": "47d8edc5-52d8-4f12-843a-8728184bf23b"
      },
      "id": "0z_jki7ZJ39g",
      "execution_count": 106,
      "outputs": [
        {
          "output_type": "stream",
          "name": "stderr",
          "text": [
            "/usr/local/lib/python3.10/dist-packages/ipykernel/ipkernel.py:283: DeprecationWarning: `should_run_async` will not call `transform_cell` automatically in the future. Please pass the result to `transformed_cell` argument and any exception that happen during thetransform in `preprocessing_exc_tuple` in IPython 7.17 and above.\n",
            "  and should_run_async(code)\n",
            "/usr/local/lib/python3.10/dist-packages/sklearn/cluster/_kmeans.py:870: FutureWarning: The default value of `n_init` will change from 10 to 'auto' in 1.4. Set the value of `n_init` explicitly to suppress the warning\n",
            "  warnings.warn(\n"
          ]
        },
        {
          "output_type": "display_data",
          "data": {
            "text/plain": [
              "<Figure size 640x480 with 1 Axes>"
            ],
            "image/png": "[encoded data removed]"
          },
          "metadata": {}
        },
        {
          "output_type": "stream",
          "name": "stdout",
          "text": [
            "        CustomerID  Quantity  UnitPrice  CustomerSegment\n",
            "0          17850.0         6       2.55                0\n",
            "1          17850.0         6       3.39                0\n",
            "2          17850.0         8       2.75                0\n",
            "3          17850.0         6       3.39                0\n",
            "4          17850.0         6       3.39                0\n",
            "...            ...       ...        ...              ...\n",
            "541904     12680.0        12       0.85                0\n",
            "541905     12680.0         6       2.10                0\n",
            "541906     12680.0         4       4.15                0\n",
            "541907     12680.0         4       4.15                0\n",
            "541908     12680.0         3       4.95                0\n",
            "\n",
            "[541909 rows x 4 columns]\n"
          ]
        }
      ]
    },
    {
      "cell_type": "markdown",
      "source": [
        "*   Each point in the scatter plot represents a customer.\n",
        "*   The 'CustomerSegment' column in the DataFrame represents the assigned cluster labels for each customer based on their purchasing behavior.\n",
        "*   The scatter plot colors each point according to its assigned customer segment."
      ],
      "metadata": {
        "id": "cdTwtB0UmP9x"
      },
      "id": "cdTwtB0UmP9x"
    },
    {
      "cell_type": "markdown",
      "source": [
        "### Healthcare Dataset"
      ],
      "metadata": {
        "id": "_Faj5h7Cmf1a"
      },
      "id": "_Faj5h7Cmf1a"
    },
    {
      "cell_type": "code",
      "source": [
        "# Feature selection\n",
        "features = ['Age', 'Blood Type']\n",
        "X = df1[features]\n",
        "\n",
        "# Standardize the data\n",
        "scaler = StandardScaler()\n",
        "X_scaled = scaler.fit_transform(X)\n",
        "\n",
        "# Instantiate the KMeans model\n",
        "kmeans = KMeans(n_clusters=3, random_state=42)\n",
        "\n",
        "# Predict cluster labels\n",
        "df1['Cluster'] = kmeans.fit_predict(X_scaled)\n",
        "\n",
        "# Visualize the clusters (for a 2D space)\n",
        "plt.scatter(X_scaled[:, 0], X_scaled[:, 1], c=df1['Cluster'], cmap='viridis')\n",
        "plt.title('K-Means Clustering')\n",
        "plt.xlabel('Age')\n",
        "plt.ylabel('Blood Type')\n",
        "plt.show()"
      ],
      "metadata": {
        "colab": {
          "base_uri": "https://localhost:8080/",
          "height": 569
        },
        "id": "_7c3IqEAjtwL",
        "outputId": "927b3853-b370-4075-ed90-92bd729fa0ad"
      },
      "id": "_7c3IqEAjtwL",
      "execution_count": 113,
      "outputs": [
        {
          "output_type": "stream",
          "name": "stderr",
          "text": [
            "/usr/local/lib/python3.10/dist-packages/ipykernel/ipkernel.py:283: DeprecationWarning: `should_run_async` will not call `transform_cell` automatically in the future. Please pass the result to `transformed_cell` argument and any exception that happen during thetransform in `preprocessing_exc_tuple` in IPython 7.17 and above.\n",
            "  and should_run_async(code)\n",
            "/usr/local/lib/python3.10/dist-packages/sklearn/cluster/_kmeans.py:870: FutureWarning: The default value of `n_init` will change from 10 to 'auto' in 1.4. Set the value of `n_init` explicitly to suppress the warning\n",
            "  warnings.warn(\n"
          ]
        },
        {
          "output_type": "display_data",
          "data": {
            "text/plain": [
              "<Figure size 640x480 with 1 Axes>"
            ],
            "image/png": "[encoded data removed]"
          },
          "metadata": {}
        }
      ]
    },
    {
      "cell_type": "markdown",
      "source": [
        "*  Each point in the plot represents an instance\n",
        "* The color indicates the cluster assignment"
      ],
      "metadata": {
        "id": "Ckt3EbYrq0h5"
      },
      "id": "Ckt3EbYrq0h5"
    },
    {
      "cell_type": "markdown",
      "source": [
        "## Classification"
      ],
      "metadata": {
        "id": "5sW_nxDiXUv9"
      },
      "id": "5sW_nxDiXUv9"
    },
    {
      "cell_type": "markdown",
      "source": [
        "To predict whether a product should be restocked based on certain features"
      ],
      "metadata": {
        "id": "w4G_bJ9SZ5vc"
      },
      "id": "w4G_bJ9SZ5vc"
    },
    {
      "cell_type": "markdown",
      "source": [
        "### Online Retail Dataset"
      ],
      "metadata": {
        "id": "0XvulDo1jOvL"
      },
      "id": "0XvulDo1jOvL"
    },
    {
      "cell_type": "code",
      "source": [
        "from sklearn.model_selection import train_test_split\n",
        "from sklearn.ensemble import RandomForestClassifier\n",
        "from sklearn.metrics import accuracy_score, classification_report, confusion_matrix\n",
        "\n",
        "# Create the target variable 'RestockNeeded'\n",
        "# Define a threshold for 'Quantity' below which restocking is needed\n",
        "restock_threshold = 10\n",
        "df['RestockNeeded'] = (df['Quantity'] < restock_threshold).astype(int)\n",
        "\n",
        "# Feature selection\n",
        "features = df[['Quantity', 'UnitPrice']]\n",
        "\n",
        "# Target variable\n",
        "target = df['RestockNeeded']\n",
        "\n",
        "# Split the data into training and testing sets (80% train, 20% test)\n",
        "X_train, X_test, y_train, y_test = train_test_split(features, target, test_size=0.2, random_state=42)\n",
        "\n",
        "# Instantiate the RandomForestClassifier\n",
        "clf = RandomForestClassifier(random_state=42)\n",
        "\n",
        "# Fit the model to your training data\n",
        "clf.fit(X_train, y_train)\n",
        "\n",
        "# Predict the labels on the test set\n",
        "y_pred = clf.predict(X_test)\n",
        "\n",
        "# Evaluate the model\n",
        "accuracy = accuracy_score(y_test, y_pred)\n",
        "conf_matrix = confusion_matrix(y_test, y_pred)\n",
        "classification_rep = classification_report(y_test, y_pred)\n",
        "\n",
        "# Display the evaluation metrics\n",
        "print(f'Accuracy: {accuracy:.2f}')\n",
        "print('Confusion Matrix:')\n",
        "print(conf_matrix)\n",
        "print('Classification Report:')\n",
        "print(classification_rep)"
      ],
      "metadata": {
        "colab": {
          "base_uri": "https://localhost:8080/"
        },
        "id": "dOXlVz5AWVdM",
        "outputId": "c28e7f53-1691-4d2b-8bc3-103394880fa7"
      },
      "id": "dOXlVz5AWVdM",
      "execution_count": 81,
      "outputs": [
        {
          "output_type": "stream",
          "name": "stderr",
          "text": [
            "/usr/local/lib/python3.10/dist-packages/ipykernel/ipkernel.py:283: DeprecationWarning: `should_run_async` will not call `transform_cell` automatically in the future. Please pass the result to `transformed_cell` argument and any exception that happen during thetransform in `preprocessing_exc_tuple` in IPython 7.17 and above.\n",
            "  and should_run_async(code)\n"
          ]
        },
        {
          "output_type": "stream",
          "name": "stdout",
          "text": [
            "Accuracy: 1.00\n",
            "Confusion Matrix:\n",
            "[[27094     0]\n",
            " [    0 45530]]\n",
            "Classification Report:\n",
            "              precision    recall  f1-score   support\n",
            "\n",
            "           0       1.00      1.00      1.00     27094\n",
            "           1       1.00      1.00      1.00     45530\n",
            "\n",
            "    accuracy                           1.00     72624\n",
            "   macro avg       1.00      1.00      1.00     72624\n",
            "weighted avg       1.00      1.00      1.00     72624\n",
            "\n"
          ]
        }
      ]
    },
    {
      "cell_type": "markdown",
      "source": [
        "### Healthcare Dataset"
      ],
      "metadata": {
        "id": "_viIHDMBjRw4"
      },
      "id": "_viIHDMBjRw4"
    },
    {
      "cell_type": "code",
      "source": [
        "import pandas as pd\n",
        "from sklearn.model_selection import train_test_split\n",
        "from sklearn.ensemble import RandomForestClassifier\n",
        "from sklearn.metrics import accuracy_score, classification_report\n",
        "from sklearn.preprocessing import LabelEncoder\n",
        "\n",
        "# Feature selection: Considering only relevant features for simplicity\n",
        "features = ['Age', 'Gender', 'Blood Type']\n",
        "X = df1[features]\n",
        "y = df1['Test Results']\n",
        "\n",
        "# Split the data into training and testing sets\n",
        "X_train, X_test, y_train, y_test = train_test_split(X, y, test_size=0.2, random_state=42)\n",
        "\n",
        "# Model training\n",
        "model = RandomForestClassifier()\n",
        "model.fit(X_train, y_train)\n",
        "\n",
        "# Model predictions\n",
        "y_pred = model.predict(X_test)\n",
        "\n",
        "# Model evaluation\n",
        "accuracy = accuracy_score(y_test, y_pred)\n",
        "classification_report_result = classification_report(y_test, y_pred)\n",
        "\n",
        "print(f\"\\nAccuracy: {accuracy}\")\n",
        "print(\"\\nClassification Report:\")\n",
        "print(classification_report_result)\n"
      ],
      "metadata": {
        "colab": {
          "base_uri": "https://localhost:8080/"
        },
        "id": "K49WopdPgG0O",
        "outputId": "2e0f8937-8b59-4dfd-a22a-4f7337ae4cb1"
      },
      "id": "K49WopdPgG0O",
      "execution_count": 100,
      "outputs": [
        {
          "output_type": "stream",
          "name": "stderr",
          "text": [
            "/usr/local/lib/python3.10/dist-packages/ipykernel/ipkernel.py:283: DeprecationWarning: `should_run_async` will not call `transform_cell` automatically in the future. Please pass the result to `transformed_cell` argument and any exception that happen during thetransform in `preprocessing_exc_tuple` in IPython 7.17 and above.\n",
            "  and should_run_async(code)\n"
          ]
        },
        {
          "output_type": "stream",
          "name": "stdout",
          "text": [
            "\n",
            "Accuracy: 0.3315\n",
            "\n",
            "Classification Report:\n",
            "              precision    recall  f1-score   support\n",
            "\n",
            "    Abnormal       0.34      0.33      0.33       706\n",
            "Inconclusive       0.32      0.34      0.33       636\n",
            "      Normal       0.33      0.33      0.33       658\n",
            "\n",
            "    accuracy                           0.33      2000\n",
            "   macro avg       0.33      0.33      0.33      2000\n",
            "weighted avg       0.33      0.33      0.33      2000\n",
            "\n"
          ]
        }
      ]
    }
  ],
  "metadata": {
    "kernelspec": {
      "display_name": "Python 3 (ipykernel)",
      "language": "python",
      "name": "python3"
    },
    "language_info": {
      "codemirror_mode": {
        "name": "ipython",
        "version": 3
      },
      "file_extension": ".py",
      "mimetype": "text/x-python",
      "name": "python",
      "nbconvert_exporter": "python",
      "pygments_lexer": "ipython3",
      "version": "3.9.7"
    },
    "colab": {
      "provenance": [],
      "toc_visible": true
    }
  },
  "nbformat": 4,
  "nbformat_minor": 5
}